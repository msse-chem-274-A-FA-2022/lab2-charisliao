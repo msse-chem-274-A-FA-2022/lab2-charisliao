{
 "cells": [
  {
   "cell_type": "markdown",
   "metadata": {},
   "source": [
    "# Running Molecular Dynamics Simulations in OpenMM\n",
    "\n",
    "## Overview\n",
    "**Molecular Dynamics Simulation**: simulation of molecules through time via calculations of forces on atoms and their positions based on those forces. The output is a trajectory."
   ]
  },
  {
   "cell_type": "markdown",
   "metadata": {},
   "source": [
    "## Steps for running a simulation\n",
    "1. **Initialization** -- setting up imports, variables, and other system parameters to prepare for the simulation\n",
    "2. **Minimization** -- calculating the energies of moving molecules slightly to obtain a local \"minimum\" in energy and eliminate “bad” interatomic contacts\n",
    "3. **Equilibration** -- a brief MD simulation that prepares our system to our target temperature and desired equilibrium values\n",
    "4. **Production** -- run the equilibration\n",
    "5. **Analysis** -- after you have collected your data from the production run, you must analyze the trajectory to draw conclusions"
   ]
  },
  {
   "cell_type": "markdown",
   "metadata": {},
   "source": [
    "## Our First Simulations\n",
    "We will now use [OpenMM](https://openmm.org/documentation) to do a molecular dynamics simulation of the ethane and butane molecules we prepared. It’s important to note at this point that molecular dynamics simulations can be performed using a number of softwares. However, we will be running a simulation with a program called OpenMM. OpenMM has the advantage of being scriptable with Python."
   ]
  },
  {
   "cell_type": "markdown",
   "metadata": {},
   "source": [
    "---"
   ]
  },
  {
   "cell_type": "markdown",
   "metadata": {},
   "source": [
    "### Initialization\n",
    "Once you have OpenMM, we can use it to simulate our molecules. Start in your notebook with imports. Here are the python libraries you will need to run simulations with OpenMM."
   ]
  },
  {
   "cell_type": "code",
   "execution_count": 1,
   "metadata": {},
   "outputs": [],
   "source": [
    "import openmm as mm\n",
    "from openmm import app, unit"
   ]
  },
  {
   "cell_type": "markdown",
   "metadata": {},
   "source": [
    "First, we need to read in our structure and our force field. We have to tell the simulation our initial coordinates and the force field we will use. To do this, we use the PDB file we have and the force field file we prepared."
   ]
  },
  {
   "cell_type": "code",
   "execution_count": 2,
   "metadata": {},
   "outputs": [],
   "source": [
    "pdb = app.PDBFile('data/ethane.pdb')\n",
    "forcefield = app.ForceField('data/ethane.gaff2.xml')"
   ]
  },
  {
   "cell_type": "markdown",
   "metadata": {},
   "source": [
    "#### QUESTION\n",
    "What are we doing with these two commands above?\n",
    "*(Hint: let's check out some [documentation](http://docs.openmm.org/latest/userguide/application/02_running_sims.html))*\n",
    "\n",
    "#### RESPONSE\n",
    "`app.PDBFile('data/ethane.pdb')` loads the PDB file from disk. More precisely, it creates a PDBFile object, passes the file name input.pdb to it as an argument, and assigns the object to a variable called pdb. The PDBFile object contains the information that was read from the file: the molecular topology and atom positions.         \n",
    "`app.ForceField('data/ethane.gaff2.xml')` specifies the force field to use for the simulation.      "
   ]
  },
  {
   "cell_type": "markdown",
   "metadata": {},
   "source": [
    "#### QUESTION\n",
    "What lies in the contents of the XML file being read in `forcefield`?\n",
    "\n",
    "#### RESPONSE\n",
    "XML files define lots of standard force fields.  "
   ]
  },
  {
   "cell_type": "markdown",
   "metadata": {},
   "source": [
    "Next, we set up the system for our MD simulation. With the following command, we use the `pdb` variable to create a system. The other arguments to the function say that we are not using a cut-off and that we want to constrain bonds with hydrogens (this allows us to use a larger timestep)."
   ]
  },
  {
   "cell_type": "code",
   "execution_count": 4,
   "metadata": {},
   "outputs": [],
   "source": [
    "system = forcefield.createSystem(pdb.topology, nonbondedMethod=app.NoCutoff, constraints=app.HBonds)"
   ]
  },
  {
   "cell_type": "markdown",
   "metadata": {},
   "source": [
    "Our simulation will be in vacuum at a temperature of 298.15 K. The Langevin integrator is what is called a stochastic integrator. This means that it mimics jostling of air or solvent through random forces. We are using a 5.0 picosecond coupling constant, which is something which controls how often the integrator adds jostling motions."
   ]
  },
  {
   "cell_type": "code",
   "execution_count": 5,
   "metadata": {},
   "outputs": [],
   "source": [
    "integrator = mm.LangevinIntegrator(298.15*unit.kelvin, 5.0/unit.picoseconds, 2.0*unit.femtoseconds)\n",
    "integrator.setConstraintTolerance(1e-5)"
   ]
  },
  {
   "cell_type": "markdown",
   "metadata": {},
   "source": [
    "#### QUESTION\n",
    "What is the `integrator` applying to our simulation?\n",
    "\n",
    "#### RESPONSE\n",
    "The integrator is created to use for advancing the equations of motion. To be specific, it performs Langevin dynamics, and assigns it to a variable called integrator. It also specifies the values of three parameters that are specific to Langevin dynamics: the simulation temperature (298.15 K), the friction coefficient (5.0 ps-1), and the step size (2.0 ps)."
   ]
  },
  {
   "cell_type": "markdown",
   "metadata": {},
   "source": [
    "Finally, we initialize the simulation by adding all of the pieces we have prepared:"
   ]
  },
  {
   "cell_type": "code",
   "execution_count": 7,
   "metadata": {},
   "outputs": [],
   "source": [
    "platform = mm.Platform.getPlatformByName('Reference')\n",
    "simulation = app.Simulation(pdb.topology, system, integrator, platform) # ENTER THE THREE PIECES OF OUR SIMULATION HERE (hmm... I wonder where I can find this)\n",
    "simulation.context.setPositions(pdb.positions)"
   ]
  },
  {
   "cell_type": "markdown",
   "metadata": {},
   "source": [
    "---"
   ]
  },
  {
   "cell_type": "markdown",
   "metadata": {},
   "source": [
    "### Minimization\n",
    "Now, we start calculating energies. First we do an energy minimization. We start in this code block by printing the energy before minimization, doing 100 steps of an energy minimization, then printing the new energy. You should see that the energy decreases:"
   ]
  },
  {
   "cell_type": "code",
   "execution_count": 8,
   "metadata": {},
   "outputs": [
    {
     "name": "stdout",
     "output_type": "stream",
     "text": [
      "Minimizing...\n",
      "Potential energy before minimization is 4.467818271065182 kJ/mol\n",
      "Potential energy after minimization is 4.389967724953268 kJ/mol\n"
     ]
    }
   ],
   "source": [
    "print('Minimizing...')\n",
    "\n",
    "st = simulation.context.getState(getPositions=True,getEnergy=True)\n",
    "print(F\"Potential energy before minimization is {st.getPotentialEnergy()}\")\n",
    "\n",
    "simulation.minimizeEnergy(maxIterations=100)\n",
    "\n",
    "st = simulation.context.getState(getPositions=True,getEnergy=True)\n",
    "print(F\"Potential energy after minimization is {st.getPotentialEnergy()}\")"
   ]
  },
  {
   "cell_type": "markdown",
   "metadata": {},
   "source": [
    "You can’t see it from this code, but the atom positions have changed slightly to cause this change in energy."
   ]
  },
  {
   "cell_type": "markdown",
   "metadata": {},
   "source": [
    "#### QUESTION\n",
    "What is an energy minimization? Why do we want to perform a local energy minimization at the start of our simulation?\n",
    "\n",
    "#### RESPONSE\n",
    "The forces between coordinates initially might be very large, so it is a good idea to minimize the energy first which is also the reason and the explanation for energy minimization.\n"
   ]
  },
  {
   "cell_type": "markdown",
   "metadata": {},
   "source": [
    "---"
   ]
  },
  {
   "cell_type": "markdown",
   "metadata": {},
   "source": [
    "### Equilibration\n",
    "Next, we run an equilibration. The purpose of this equilibration is to get our system to our target temperature and to get the system equilibrated and ready for our production run."
   ]
  },
  {
   "cell_type": "code",
   "execution_count": 9,
   "metadata": {},
   "outputs": [
    {
     "name": "stdout",
     "output_type": "stream",
     "text": [
      "Equilibrating...\n",
      "#\"Step\",\"Potential Energy (kJ/mole)\",\"Temperature (K)\"\n",
      "100,27.281822364037364,361.89339071488195\n",
      "200,31.212073760898022,238.16177487807968\n",
      "300,29.585122553218934,395.66661499802325\n",
      "400,35.58346470733158,240.951092958684\n",
      "500,18.943454506448614,290.20201910493716\n",
      "600,26.207153181734512,314.9664849857502\n",
      "700,31.327258077032027,411.7157279665938\n",
      "800,23.72637259832723,434.43863785078685\n",
      "900,17.93758814352464,247.07858019282494\n",
      "1000,14.699864133397146,183.77087550074987\n",
      "1100,20.46406950524034,263.79258624531553\n",
      "1200,45.26061589126354,117.47608341673498\n",
      "1300,24.348174669163793,204.26890536835663\n",
      "1400,19.71212631437882,286.03652340972843\n",
      "1500,31.378688976808277,335.20834003994656\n",
      "1600,27.59315745115725,207.39863210839408\n",
      "1700,17.369320373070174,291.48146707493186\n",
      "1800,31.065886968693743,139.57962473266682\n",
      "1900,15.012975990586547,156.37314256605802\n",
      "2000,17.166546885288064,443.23460181524194\n",
      "2100,42.748862811711575,198.36423783226357\n",
      "2200,32.30690207196742,311.2027671335019\n",
      "2300,13.818730807636333,385.8619037989205\n",
      "2400,17.874074342611674,391.60499437505786\n",
      "2500,28.387732073175457,536.2587940570608\n"
     ]
    }
   ],
   "source": [
    "from sys import stdout\n",
    "\n",
    "print('Equilibrating...')\n",
    "\n",
    "simulation.reporters.append(app.StateDataReporter(stdout, 100, step=True, \n",
    "    potentialEnergy=True, temperature=True, separator=','))\n",
    "simulation.context.setVelocitiesToTemperature(150.0*unit.kelvin)\n",
    "simulation.step(2500)"
   ]
  },
  {
   "cell_type": "markdown",
   "metadata": {},
   "source": [
    "The first command in this section sets up what information OpenMM will report to us as the simulation runs. We are asking for the potential energy, and temperature every 100 timesteps. By putting `stdout` as the first argument, we are telling the program to just print the information. Note that `stdout` comes from the built in Python module `sys`. If we wanted the information in a file instead, you would put the file name.\n",
    "\n",
    "The second command sets the initial velocities of the system to a temperature equivalent of 150 K. Then, we integrate for 2,500 steps to allow the system to equilibrate."
   ]
  },
  {
   "cell_type": "markdown",
   "metadata": {},
   "source": [
    "---"
   ]
  },
  {
   "cell_type": "markdown",
   "metadata": {},
   "source": [
    "### Production\n",
    "This next block of code is a longer block of simulation called the ‘production run’. We’re also added a timer to this code so we can see how long it took our simulation to run."
   ]
  },
  {
   "cell_type": "code",
   "execution_count": 10,
   "metadata": {},
   "outputs": [
    {
     "name": "stdout",
     "output_type": "stream",
     "text": [
      "Running Production...\n",
      "#\"Step\",\"Time (ps)\",\"Potential Energy (kJ/mole)\",\"Temperature (K)\",\"Speed (ns/day)\"\n",
      "250000,500.0000000016593,18.51242367640489,174.82172693462198,0\n",
      "500000,999.9999999901769,21.15720628282429,414.43934227489666,4.04e+04\n",
      "750000,1499.9999999783536,27.957481051315646,252.81504701014097,4.04e+04\n",
      "1000000,1999.9999999665301,14.320842637556346,509.1759890022748,4.02e+04\n",
      "1250000,2499.9999999547067,16.189872933014485,354.60069277880405,4.03e+04\n",
      "1500000,2999.9999999428833,34.40036066983349,210.36141079464545,4.04e+04\n",
      "1750000,3499.99999993106,15.254720624565426,154.98745352660907,4.04e+04\n",
      "2000000,3999.9999999192364,41.89849473641306,402.1283302763836,4.04e+04\n",
      "2250000,4499.9999999992715,10.522164813378616,487.00905577649576,4.05e+04\n",
      "2500000,5000.000000101135,13.0035033740152,601.633793679018,4.05e+04\n",
      "2750000,5500.000000202998,19.639321818197644,630.042422549221,4.05e+04\n",
      "3000000,6000.000000304862,21.71543267575842,387.72336989179325,4.05e+04\n",
      "3250000,6500.000000406725,32.835207219604676,292.43042700706803,4.03e+04\n",
      "3500000,7000.0000005085885,25.622674089241222,239.42170698607256,3.8e+04\n",
      "3750000,7500.000000610452,17.78797388402977,235.2014676332324,3.81e+04\n",
      "4000000,8000.000000712315,18.36237520832708,205.70089073724748,3.83e+04\n",
      "4250000,8500.000000814178,10.36843673438253,374.6200702711662,3.82e+04\n",
      "4500000,9000.000000916041,11.179606816049684,323.26723224331147,3.84e+04\n",
      "4750000,9500.000001017905,17.266366327468923,174.68296521007278,3.85e+04\n",
      "5000000,10000.000001119768,19.73411784990497,291.7575490239587,3.85e+04\n",
      "5250000,10500.000001221631,26.93528594430436,196.00077321698404,3.85e+04\n",
      "5500000,11000.000001323495,12.002255160579697,152.21465239949129,3.86e+04\n",
      "5750000,11500.000001425358,25.004427400789794,212.45763844867747,3.87e+04\n",
      "6000000,12000.000001527222,17.655079902559812,299.07397113637427,3.87e+04\n",
      "6250000,12500.000001629085,15.604898674164724,323.7742745166142,3.87e+04\n",
      "6500000,13000.000001730948,13.945561793431306,360.4421135847701,3.88e+04\n",
      "6750000,13500.000001832812,28.358125126990156,444.49523377611956,3.88e+04\n",
      "7000000,14000.000001934675,16.5152166661439,348.5710347148321,3.89e+04\n",
      "7250000,14500.000002036539,23.081495647883187,180.06460222688466,3.89e+04\n",
      "7500000,15000.000002138402,14.201499783377482,373.19967009265656,3.89e+04\n",
      "7750000,15500.000002240266,19.032142343988188,244.27135108884698,3.9e+04\n",
      "8000000,16000.000002342129,34.50306411371694,325.4590632453383,3.9e+04\n",
      "8250000,16500.00000244399,29.936522526081887,293.4957568981386,3.9e+04\n",
      "8500000,17000.000002545854,22.736692896592498,330.2876837927692,3.9e+04\n",
      "8750000,17500.000002647717,17.239390571863993,269.4493242817335,3.91e+04\n",
      "9000000,18000.00000274958,28.311795361579062,192.66466299718218,3.91e+04\n",
      "9250000,18500.000002851444,15.126478314578854,227.98971136814822,3.91e+04\n",
      "9500000,19000.000002953308,12.714443350896875,362.3960659587805,3.91e+04\n",
      "9750000,19500.00000305517,30.032358525795658,97.65313467999599,3.91e+04\n",
      "10000000,20000.000003157034,11.678315312042113,255.01564633971137,3.9e+04\n",
      "Done!\n",
      "Time required for simulation: 44.311047077178955 seconds\n"
     ]
    }
   ],
   "source": [
    "import time as time\n",
    "\n",
    "print('Running Production...')\n",
    "\n",
    "# Begin timer\n",
    "tinit=time.time()\n",
    "\n",
    "# Clear simulation reporters\n",
    "simulation.reporters.clear()\n",
    "\n",
    "# Reinitialize simulation reporters. We do this because we want different information printed from the production run than the equilibration run.\n",
    "# output basic simulation information below every 250000 steps - (which is equal to 2 fs(250,000) = 500,000 fs = 500 ps)\n",
    "simulation.reporters.append(app.StateDataReporter(stdout, 250000, \n",
    "    step=True, time=True, potentialEnergy=True, temperature=True, \n",
    "    speed=True, separator=','))\n",
    "\n",
    "# write out a trajectory (i.e., coordinates vs. time) to a DCD\n",
    "# file every 100 steps - 0.2 ps\n",
    "simulation.reporters.append(app.DCDReporter('ethane_sim.dcd', 100))\n",
    "\n",
    "# run the simulation for 1.0x10^7 steps - 20 ns\n",
    "simulation.step(10000000)\n",
    "\n",
    "# End timer\n",
    "tfinal=time.time()\n",
    "print('Done!')\n",
    "print('Time required for simulation:', tfinal-tinit, 'seconds')"
   ]
  },
  {
   "cell_type": "markdown",
   "metadata": {},
   "source": [
    "After executing this cell in your notebook, you should see an output which gives you the step number, simulation time, potential energy, temperature, and “speed” for steps in the simulation. The spacing of theses is set in the `simulation.reporters` step where we indicated we wanted information printed every 250,000 timesteps.\n",
    "\n",
    "The “speed” is reported in “ns/day” or “nanoseconds/day”. This is a commonly used unit to report how quickly simulations run. It tells you how much simulation time in nanoseconds would pass for 24 hours of computation time. For example, if a simulation is running at 2 ns/day, enough timesteps would be calculated in one day to make 2 nanoseconds of simulation time. If we were using our 2 fs timestep, this would mean that the computer calculated 1,000,000 timesteps over 24 hours."
   ]
  },
  {
   "cell_type": "markdown",
   "metadata": {},
   "source": [
    "---"
   ]
  },
  {
   "cell_type": "markdown",
   "metadata": {},
   "source": [
    "## Your Turn\n",
    "Make a copy of the code you wrote to run your ethane simulation and modify it to:\n",
    "1. Read in the files `butane.gaff2.xml` and `butane.pdb`\n",
    "2. Carry out a 10 ps MD simulation to bring the butane molecule to an equilibrium temperature of 298 K in which output is printed every 0.5 ps (Leave the minimization portion beforehand unchanged.)\n",
    "3. Carry out a 40 ns MD simulation at 298 K in which output is printed every 1 ns and structures are (still) saved every 0.2 ps into a file called `butane_sim.dcd`."
   ]
  },
  {
   "cell_type": "code",
   "execution_count": 13,
   "metadata": {},
   "outputs": [
    {
     "name": "stdout",
     "output_type": "stream",
     "text": [
      "Minimizing...\n",
      "Potential energy before minimization is 5.797528692127868 kJ/mol\n",
      "Potential energy after minimization is 5.295784483017486 kJ/mol\n",
      "Equilibrating...\n",
      "#\"Step\",\"Potential Energy (kJ/mole)\",\"Temperature (K)\"\n",
      "100,20.241535139038017,98.72773063288346\n",
      "200,51.6389055993958,146.3823040092408\n",
      "300,31.268737464481166,334.2166593030898\n",
      "400,21.366095081573654,378.6652774528728\n",
      "500,20.158420339893585,335.58379473893723\n",
      "600,39.628584849621404,203.90683939273055\n",
      "700,44.995658740426954,278.2624818789648\n",
      "800,67.15674085737732,481.1244632892348\n",
      "900,89.72415750623344,270.0074041433383\n",
      "1000,49.792098612652154,244.4842422384202\n",
      "1100,46.33382108965689,200.797456176477\n",
      "1200,45.86774938820261,152.06873834891033\n",
      "1300,40.29781941080838,311.11691193895587\n",
      "1400,35.330689043674084,298.20145314636574\n",
      "1500,30.226440949036903,370.1014869835682\n",
      "1600,53.78073557042757,184.37460048920715\n",
      "1700,44.700523545756816,275.6806616769652\n",
      "1800,57.26648147996319,241.4436906004243\n",
      "1900,31.231817238133807,462.30591782630637\n",
      "2000,48.2333150013082,317.0572051515178\n",
      "2100,43.5705429004015,471.7810134002628\n",
      "2200,46.26477486109299,322.60015945690077\n",
      "2300,28.38590880178915,342.8309986662085\n",
      "2400,52.08690634622106,399.4933778169423\n",
      "2500,45.09267065008969,226.38890283390066\n",
      "2600,42.195718332536515,168.75045194522056\n",
      "2700,42.34925211696254,253.1830806395907\n",
      "2800,49.33612151331039,368.94447254699196\n",
      "2900,62.715689568360325,264.7417585176321\n",
      "3000,53.92561390242899,356.8563076641987\n",
      "3100,35.03906339346942,367.3115901219184\n",
      "3200,39.4905587781369,357.80166346979127\n",
      "3300,35.41960795220484,368.49461867472365\n",
      "3400,44.119993584622655,358.5193481087681\n",
      "3500,30.42694392428118,239.9427974596747\n",
      "3600,46.591333992771446,272.91228890455733\n",
      "3700,51.571778741071796,300.68062227366835\n",
      "3800,40.21585970845162,324.6995877402469\n",
      "3900,26.84812760596441,185.54074693228748\n",
      "4000,28.873601472357027,373.63819907096956\n",
      "4100,41.67987244398863,343.25360324250073\n",
      "4200,34.79322899231599,229.6602370566904\n",
      "4300,45.698167982968826,193.5904496231629\n",
      "4400,37.55838129044361,269.49277781648857\n",
      "4500,40.65584236948556,259.85438045418675\n",
      "4600,33.593540959788534,229.4961977583109\n",
      "4700,27.629671922764263,264.1663809552462\n",
      "4800,40.7923154259411,164.6694491289864\n",
      "4900,51.21387922154307,219.82104522849085\n",
      "5000,61.5563355474698,319.4125309465065\n",
      "Running Production...\n",
      "#\"Step\",\"Time (ps)\",\"Potential Energy (kJ/mole)\",\"Temperature (K)\",\"Speed (ns/day)\"\n",
      "250000,500.0000000016593,42.98316240993202,277.155881655455,0\n",
      "500000,999.9999999901769,38.49156035569819,303.0638845403863,1.9e+04\n",
      "750000,1499.9999999783536,32.33453216802083,370.80816235682596,1.91e+04\n",
      "1000000,1999.9999999665301,42.02554341451237,328.9277319601185,1.93e+04\n",
      "Done!\n",
      "Time required for simulation: 8.952758073806763 seconds\n"
     ]
    }
   ],
   "source": [
    "### your code here!!!\n",
    "\n",
    "# Inititalization - Read in pdb and assign force field\n",
    "pdb = app.PDBFile('data/butane.pdb')\n",
    "forcefield = app.ForceField('data/butane.gaff2.xml')\n",
    "\n",
    "# Set up systems for MD \n",
    "system = forcefield.createSystem(pdb.topology, nonbondedMethod=app.NoCutoff, constraints=app.HBonds)\n",
    "\n",
    "# Define The Langevin integrator\n",
    "integrator = mm.LangevinIntegrator(298.15*unit.kelvin, 5.0/unit.picoseconds, 2.0*unit.femtoseconds)\n",
    "integrator.setConstraintTolerance(1e-5)\n",
    "\n",
    "# Initialize the simulation by adding all of the pieces we have prepared\n",
    "platform = mm.Platform.getPlatformByName('Reference')\n",
    "simulation = app.Simulation(pdb.topology, system, integrator, platform) \n",
    "simulation.context.setPositions(pdb.positions)\n",
    "\n",
    "# Minimization \n",
    "print('Minimizing...')\n",
    "\n",
    "st = simulation.context.getState(getPositions=True,getEnergy=True)\n",
    "print(F\"Potential energy before minimization is {st.getPotentialEnergy()}\")\n",
    "\n",
    "simulation.minimizeEnergy(maxIterations=100)\n",
    "\n",
    "st = simulation.context.getState(getPositions=True,getEnergy=True)\n",
    "print(F\"Potential energy after minimization is {st.getPotentialEnergy()}\")\n",
    "\n",
    "# Equilibration \n",
    "from sys import stdout\n",
    "print('Equilibrating...')\n",
    "\n",
    "simulation.reporters.append(app.StateDataReporter(stdout, 100, step=True, \n",
    "    potentialEnergy=True, temperature=True, separator=','))\n",
    "simulation.context.setVelocitiesToTemperature(150.0*unit.kelvin)\n",
    "simulation.step(5000)\n",
    "\n",
    "# Production \n",
    "print('Running Production...')\n",
    "\n",
    "# Begin timer\n",
    "tinit=time.time()\n",
    "\n",
    "# Clear simulation reporters\n",
    "simulation.reporters.clear()\n",
    "\n",
    "# Reinitialize simulation reporters. We do this because we want different information printed from the production run than the equilibration run.\n",
    "# output basic simulation information below every 250000 steps - (which is equal to 2 fs(250,000) = 500,000 fs = 500 ps)\n",
    "simulation.reporters.append(app.StateDataReporter(stdout, 250000, \n",
    "    step=True, time=True, potentialEnergy=True, temperature=True, \n",
    "    speed=True, separator=','))\n",
    "\n",
    "# write out a trajectory (i.e., coordinates vs. time) to a DCD\n",
    "# file every 100 steps - 0.2 ps\n",
    "simulation.reporters.append(app.DCDReporter('ethane_sim.dcd', 100))\n",
    "\n",
    "# run the simulation for 1.0x10^7 steps - 20 ns\n",
    "simulation.step(1000000)\n",
    "\n",
    "# End timer\n",
    "tfinal=time.time()\n",
    "print('Done!')\n",
    "print('Time required for simulation:', tfinal-tinit, 'seconds')\n",
    "\n",
    "\n"
   ]
  },
  {
   "cell_type": "markdown",
   "metadata": {},
   "source": [
    "---"
   ]
  },
  {
   "cell_type": "markdown",
   "metadata": {},
   "source": [
    "## Analysis\n",
    "Now that we’ve performed our computer experiment, it is time to analyze the data we have collected. The main type of data you have collected through this simulation is information on atom positions, or the system trajectory.\n",
    "\n",
    "As part of our production simulation, we set up a reporter to record atomic positions. The code below shows that code from your previous script, **you do not need to execute it.**"
   ]
  },
  {
   "cell_type": "code",
   "execution_count": null,
   "metadata": {},
   "outputs": [],
   "source": [
    "simulation.reporters.append(app.DCDReporter('ethane_sim.dcd', 100))"
   ]
  },
  {
   "cell_type": "markdown",
   "metadata": {},
   "source": [
    "This reporter saved the atomic positions for us every 100 timesteps in a file called `ethane_sim.dcd`. The DCD file format is a binary file (instead of being a text file), so you cannot open it and look at it. However, we will be using certain libraries to analyze and view the file’s contents. If you’ve run your simulation, you should have the file `ethane_sim.dcd` in the same folder as your Jupyter notebook.\n",
    "\n",
    "First, we will need to make sure we have a few more Python libraries installed which can help us with analysis. We will use a library called **nglview** to visualize the trajectory, and a library called **MDTraj** to analyze the trajectory. Before opening a new notebook for analysis, you may need to install **nglview** and **MDTraj**.\n",
    "\n",
    "Type the following in your *terminal* to install **nglview** and **MDTraj**:"
   ]
  },
  {
   "cell_type": "code",
   "execution_count": null,
   "metadata": {},
   "outputs": [],
   "source": [
    "$ conda install -c conda-forge mdtraj nglview"
   ]
  },
  {
   "cell_type": "code",
   "execution_count": null,
   "metadata": {},
   "outputs": [],
   "source": [
    "import mdtraj as md\n",
    "\n",
    "traj = md.load('ethane_sim.dcd', top='data/ethane.pdb')"
   ]
  },
  {
   "cell_type": "markdown",
   "metadata": {},
   "source": [
    "The command above reads all of the atomic positions from `ethane_sim.dcd` and keeps track of atom connectivity (topology) which was given in the PDB file. Next, visualize the trajectory using nglview. Nglview has a special function `show_mdtraj` that we can use with our trajectory because it was in a specific format from the MDTraj library."
   ]
  },
  {
   "cell_type": "code",
   "execution_count": null,
   "metadata": {},
   "outputs": [],
   "source": [
    "import nglview as ngl\n",
    "\n",
    "visualize = ngl.show_mdtraj(traj)\n",
    "visualize"
   ]
  },
  {
   "cell_type": "markdown",
   "metadata": {},
   "source": [
    "This should show you something that looks sort of like a movie of your ethane molecule. These are the atomic positions calculated by OpenMM during the molecular dynamics run. We can now analyze the positions to find out some things about our molecule.\n",
    "\n",
    "We will use another OpenMM command to pull out our bonds and atoms for analysis"
   ]
  },
  {
   "cell_type": "code",
   "execution_count": null,
   "metadata": {},
   "outputs": [],
   "source": [
    "atoms, bonds = traj.topology.to_dataframe()\n",
    "atoms"
   ]
  },
  {
   "cell_type": "markdown",
   "metadata": {},
   "source": [
    "#### QUESTION\n",
    "Describe the table that `atoms` produced.\n",
    "\n",
    "#### RESPONSE\n",
    "Your response here :D"
   ]
  },
  {
   "cell_type": "markdown",
   "metadata": {},
   "source": [
    "### Analyzing the C-C bond length\n",
    "Let’s look at what C-C bond lengths our ethane molecule had during the simulation. Before we can measure the bond lengths, we have to decide which atoms from our molecule define the bond angle. You should see a table output from running `atoms`.\n",
    "\n",
    "We have to pick the atom indices for the C-C bond. An atom’s index is the left-most value in the table above. For our torsion, we’ll measure `C1-C2` the indices for these are `0` and `4`. We use the function `compute_distances` in the MDTraj library to measure the distance between these atoms."
   ]
  },
  {
   "cell_type": "code",
   "execution_count": null,
   "metadata": {},
   "outputs": [],
   "source": [
    "bond_indices = [0, 4] # atoms to define the bond length\n",
    "bond_length = md.compute_distances(traj, [bond_indices])"
   ]
  },
  {
   "cell_type": "markdown",
   "metadata": {},
   "source": [
    "We now have the measurement for this torsion angle in radians for each recorded timestep of the trajectory saved in the array `bond_length`. One way we can examine this data is by plotting it as a histogram using the Python library `matplotlib`."
   ]
  },
  {
   "cell_type": "code",
   "execution_count": null,
   "metadata": {},
   "outputs": [],
   "source": [
    "import matplotlib.pyplot as plt\n",
    "\n",
    "bondcounts, binedges, otherstuff = plt.hist(bond_length, bins=120)\n",
    "plt.title('C-C bond length histogram')\n",
    "plt.xlabel('Bond length (nm)')\n",
    "plt.ylabel('Counts')\n",
    "plt.show()"
   ]
  },
  {
   "cell_type": "markdown",
   "metadata": {},
   "source": [
    "## Your Turn\n",
    "A torsion is made up of four atoms which are bonded to each other. Analyze the torsion angle associated with the atoms `H11-C1-C2-H21` for your trajectory. Instead of using the function `compute_distance`, use `compute_dihedrals`. Create a histogram plot of the torsion angles.\n",
    "\n",
    "First, we need to pick the atom indices of our torsion angle and use the `compute_dihedrals` function to calculate the dihedrals."
   ]
  },
  {
   "cell_type": "code",
   "execution_count": null,
   "metadata": {},
   "outputs": [],
   "source": [
    "phi_indices = [] # add atoms to define the torsion angle\n",
    "phi = # use the compute_dihedrals function\n",
    "\n",
    "print(phi)"
   ]
  },
  {
   "cell_type": "markdown",
   "metadata": {},
   "source": [
    "We now have the measurement for this torsion angle in radians for each recorded timestep of the trajectory.\n",
    "\n",
    "Next, we can examine this data by plotting it as a histogram using the Python library `matplotlib`."
   ]
  },
  {
   "cell_type": "code",
   "execution_count": null,
   "metadata": {},
   "outputs": [],
   "source": [
    "import matplotlib.pyplot as plt\n",
    "\n",
    "# create a histogram with 90 bins"
   ]
  },
  {
   "cell_type": "markdown",
   "metadata": {},
   "source": [
    "Credit for this exercise goes to [MolSSI](https://education.molssi.org/mm-tools/02-md-alkanes/index.html)."
   ]
  }
 ],
 "metadata": {
  "kernelspec": {
   "display_name": "Python 3 (ipykernel)",
   "language": "python",
   "name": "python3"
  },
  "language_info": {
   "codemirror_mode": {
    "name": "ipython",
    "version": 3
   },
   "file_extension": ".py",
   "mimetype": "text/x-python",
   "name": "python",
   "nbconvert_exporter": "python",
   "pygments_lexer": "ipython3",
   "version": "3.9.13"
  },
  "vscode": {
   "interpreter": {
    "hash": "31f2aee4e71d21fbe5cf8b01ff0e069b9275f58929596ceb00d14d90e3e16cd6"
   }
  }
 },
 "nbformat": 4,
 "nbformat_minor": 2
}
